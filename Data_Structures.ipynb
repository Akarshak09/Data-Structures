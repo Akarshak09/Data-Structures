{
  "nbformat": 4,
  "nbformat_minor": 0,
  "metadata": {
    "colab": {
      "provenance": []
    },
    "kernelspec": {
      "name": "python3",
      "display_name": "Python 3"
    },
    "language_info": {
      "name": "python"
    }
  },
  "cells": [
    {
      "cell_type": "code",
      "execution_count": null,
      "metadata": {
        "id": "Mh-wafzxfj45"
      },
      "outputs": [],
      "source": []
    },
    {
      "cell_type": "markdown",
      "source": [
        "# Data Structures\n"
      ],
      "metadata": {
        "id": "2QUzb_24fv4f"
      }
    },
    {
      "cell_type": "markdown",
      "source": [
        " 1) What are data structures, and why are they important?\n",
        "    \n",
        "    -> Data structure is a way of organizing, managing and storing data which can be accesesed and maniupulated efficiently.\n",
        "       They are important to optimize the usage of resources such as memory, time for processing.\n",
        "      \n",
        " 2)  Explain the difference between mutable and immutable data types with examples.\n",
        "    \n",
        "    -> Mutable:- Data types which can be modified after its creation without any new object.\n",
        "       Eg: List, Dictionary, set\n",
        "       Lis = [\"Apple\", 12, 13.3, 5+6j]\n",
        "       Lis[1] = 29\n",
        "       updated list\n",
        "       Lis = [\"Apple\", 29, 13.3, 5+6j]\n",
        "\n",
        "    -> Immutable:- Data types which can't be modified once created, if any changes made will result in creation of new object\n",
        "       Eg: Tuples, String, Frozen set\n",
        "       name = \"pwskills\"\n",
        "       name[0] = \"a\"\n",
        "       This will throw error\n",
        "\n",
        "  3)  What are the main differences between lists and tuples in Python?\n",
        "\n",
        "    -> Main differences between lists and tuples\n",
        "       i) Lists are Immutable whereas tuples are mutable.\n",
        "       ii) Lists are defined with square brackets[] wheras tuples are defined using paranthesis()\n",
        "\n",
        "  4)  Describe how dictionaries store data.\n",
        "   \n",
        "    -> Dictionaries store data in form of key value pair\n",
        "       Dictionaries store data as pairs of key and values. The key is a unique identifier and value is the data associated with the key.\n",
        "\n",
        "       Hashing technique is used to map keys to specific positions in memory, where hash function takes a key and generates a unique hash code which identifies where the mapped value will be stored in memory\n",
        "\n",
        "\n",
        "  5)  Why might you use a set instead of a list in Python?\n",
        "\n",
        "    -> A set stores unique elements which return eliminates all the\n",
        "       duplicate values automatically.\n",
        "       It also provides unique built in operations like unique, intersection, difference and symmetric difference.\n",
        "      \n",
        "  6) What is a string in Python, and how is it different from a list?\n",
        "\n",
        "    -> String\n",
        "       Strings are basically sequence of characters stored in memory, enclosed in single quotes or double quotes.\n",
        "\n",
        "       Strings are immutable unlike list, therefore can't be modified after creation unless we use techniques like concatenation, slicing(), replace() etc methods\n",
        "\n",
        "  7) How do tuples ensure data integrity in Python?\n",
        "\n",
        "    -> Tuple\n",
        "       A tuple in data structure is basically immutable in python, therefore contents cannot be modified post creation which prevents accidental modifications.\n",
        "\n",
        "  8) What is a hash table, and how does it relate to dictionaries in\n",
        "     Python?\n",
        "    -> Hash Table\n",
        "       Hash table is used to map keys to specific positions in memory, where hash function takes a key and generates a unique hash code which identifies where the mapped value will be stored in memory.\n",
        "\n",
        "  9) Can lists contain different data types in Python?\n",
        "    -> List\n",
        "       Yes List can contain all data types and are stored in ordered format and we can access them too with indexing, Lists are mutable, therefore can be modified post creation.\n",
        "\n",
        "  10) Explain why strings are immutable in Python?\n",
        "\n",
        "    -> Immutable strings\n",
        "       Strings are immutable to optimize memory usage and to provide accidental data modifications.\n",
        "\n",
        "  11) What advantages do dictionaries offer over lists for certain tasks?\n",
        "\n",
        "    -> Advantage of Dictionary over List\n",
        "       Data in dictionaries are more organized and structured compared to list as they contain key value pairs.\n",
        "       Dictionaries use hash table, data can be accessed quickly unlike list which has to search through all the elements.\n",
        "       Dictionaries offers unique keys whereas list offers duplicate values.\n",
        "\n",
        "  12) Describe a scenario where using a tuple would be preferable over a list.\n",
        "\n",
        "    -> Scenarios for Tuple over List\n",
        "       Tuples are immutable therefore data cannot be modified once created, hence for data which needs to remain constant and avoid accidental changes Tuples are preferable over list.\n",
        "\n",
        "  13) How do sets handle duplicate values in Python?\n",
        "    \n",
        "    -> Sets and duplicate values\n",
        "       Sets stores only unique elements therefore sets eliminates duplicate values\n",
        "\n",
        "  14) How does the “in” keyword work differently for lists and dictionaries?\n",
        "\n",
        "    -> \"in\" keyword\n",
        "       The \"in\" keyword in list checks membership in both list and dictionaries. In List it scans the entire list values whereas in Dictionaries it only scans keys not values as data in dictionaries are stored as (\"key\":value) pairs.\n",
        "\n",
        "  15) Can you modify the elements of a tuple? Explain why or why not?\n",
        "\n",
        "    -> Tuple modification\n",
        "       No, we cannot modify the elements of a tuple because tuples are immutable.\n",
        "\n",
        "  16) What is a nested dictionary, and give an example of its use case?\n",
        "     \n",
        "    -> Nested Dictionary\n",
        "       Nested dictionary can be reffered to dictionary inside another dictionary.\n",
        "       Use case:\n",
        "       Employee records, Product inventory\n",
        "\n",
        "  17) Describe the time complexity of accessing elements in a dictionary?\n",
        "\n",
        "    -> Time comlexity\n",
        "       Dictionaries use hashing, meaning they compute a hash for the key and directly access the corresponding value.\n",
        "       This results in constant time complexity: O(1) in the average case.\n",
        "       Sometimes hash collision occurs like multiple hash keys are assigned with same key values resulting in worst time complexity: O(n).\n",
        "\n",
        "  18) In what situations are lists preferred over dictionaries?\n",
        "\n",
        "    -> List over dictionaries\n",
        "       Lists are preffered over dictionaries where order matters and where sequential iteration is required.\n",
        "\n",
        "  19) Why are dictionaries considered unordered, and how does that affect\n",
        "      data retrieval?\n",
        "     \n",
        "    -> Unordered Dictionaries\n",
        "       Dictionaries are considerd unordered because dictionaries use hash table to store key value pairs.\n",
        "       Access to contents of dictionary isn't index based, instead keys are required to access values.\n",
        "\n",
        "  20) Explain the difference between a list and a dictionary in terms of  data retrieval.\n",
        "\n",
        "    -> List and Dictionary difference\n",
        "      List offers ordered collection of elements whereas dictionary uses key value pairs\n",
        "      List are accessed by index whereas dictionaries are accessed by keys\n",
        "      List stores only values whereas Dictionary stores key value pairs.\n",
        "\n",
        "      \n",
        "\n",
        "\n"
      ],
      "metadata": {
        "id": "kYHaL8yjf8hg"
      }
    },
    {
      "cell_type": "code",
      "source": [
        "# 1) Write a code to create a string with your name and print it.\n",
        "\n",
        "name = \"Akarshak\"\n",
        "print(name)"
      ],
      "metadata": {
        "colab": {
          "base_uri": "https://localhost:8080/"
        },
        "id": "qtuLsEoFa_u8",
        "outputId": "9ef2247e-0f46-487b-fb0b-59cb82de7829"
      },
      "execution_count": null,
      "outputs": [
        {
          "output_type": "stream",
          "name": "stdout",
          "text": [
            "Akarshak\n"
          ]
        }
      ]
    },
    {
      "cell_type": "code",
      "source": [
        "# 2) Write a code to find the length of the string \"Hello World\"?\n",
        "\n",
        "text = \"Hello World\"\n",
        "print(len(text))\n"
      ],
      "metadata": {
        "id": "42VrHA3eiJG4",
        "colab": {
          "base_uri": "https://localhost:8080/"
        },
        "outputId": "e05caf05-a55c-4d10-8d56-fb8d3e18e3a8"
      },
      "execution_count": null,
      "outputs": [
        {
          "output_type": "stream",
          "name": "stdout",
          "text": [
            "11\n"
          ]
        }
      ]
    },
    {
      "cell_type": "code",
      "source": [
        "# 3) Write a code to slice the first 3 characters from the string \"Python Programming\"?\n",
        "\n",
        "text = \"Python Programming\"\n",
        "print(text[3:])\n"
      ],
      "metadata": {
        "colab": {
          "base_uri": "https://localhost:8080/"
        },
        "id": "IolvC4G1cbr7",
        "outputId": "e4e33576-8165-458b-d0bf-18c4df39aee9"
      },
      "execution_count": null,
      "outputs": [
        {
          "output_type": "stream",
          "name": "stdout",
          "text": [
            "hon Programming\n"
          ]
        }
      ]
    },
    {
      "cell_type": "code",
      "source": [
        "# 4) Write a code to convert the string \"hello\" to uppercase.\n",
        "\n",
        "text = \"hello\"\n",
        "print(text.upper())\n"
      ],
      "metadata": {
        "colab": {
          "base_uri": "https://localhost:8080/"
        },
        "id": "iERnR7WbcydX",
        "outputId": "e00f0393-88aa-48b4-cda8-b819ce971a5a"
      },
      "execution_count": null,
      "outputs": [
        {
          "output_type": "stream",
          "name": "stdout",
          "text": [
            "HELLO\n"
          ]
        }
      ]
    },
    {
      "cell_type": "code",
      "source": [
        "# 5) Write a code to replace the word \"apple\" with \"orange\" in the string \"I like apple\"\n",
        "text = \"I like apple\"\n",
        "print(text.replace(\"apple\",\"orange\"))\n"
      ],
      "metadata": {
        "colab": {
          "base_uri": "https://localhost:8080/"
        },
        "id": "lw3gr5cMdFpR",
        "outputId": "aafba7a6-c416-42d5-83c5-631c1dc99853"
      },
      "execution_count": null,
      "outputs": [
        {
          "output_type": "stream",
          "name": "stdout",
          "text": [
            "I like orange\n"
          ]
        }
      ]
    },
    {
      "cell_type": "code",
      "source": [
        "# 6) Write a code to create a list with numbers 1 to 5 and print it.\n",
        "lis = [1,2,3,4,5]\n",
        "print(lis)\n"
      ],
      "metadata": {
        "colab": {
          "base_uri": "https://localhost:8080/"
        },
        "id": "lXuDUTg-d28n",
        "outputId": "a76df9bf-ea1e-4f97-8ae0-ae4cf0702178"
      },
      "execution_count": null,
      "outputs": [
        {
          "output_type": "stream",
          "name": "stdout",
          "text": [
            "[1, 2, 3, 4, 5]\n"
          ]
        }
      ]
    },
    {
      "cell_type": "code",
      "source": [
        "# 7) Write a code to append the number 10 to the list [1, 2, 3, 4].\n",
        "lis = [1,2,3,4]\n",
        "lis.append(10)\n",
        "print(lis)\n"
      ],
      "metadata": {
        "colab": {
          "base_uri": "https://localhost:8080/"
        },
        "id": "b7paazFDeSvK",
        "outputId": "43492512-1238-4a01-fb21-874bad281027"
      },
      "execution_count": null,
      "outputs": [
        {
          "output_type": "stream",
          "name": "stdout",
          "text": [
            "[1, 2, 3, 4, 10]\n"
          ]
        }
      ]
    },
    {
      "cell_type": "code",
      "source": [
        "# 8) Write a code to remove the number 3 from the list [1, 2, 3, 4, 5]\n",
        "lis = [1,2,3,4,5]\n",
        "lis.remove(3)\n",
        "print(lis)\n"
      ],
      "metadata": {
        "colab": {
          "base_uri": "https://localhost:8080/"
        },
        "id": "-e48TeZeerEe",
        "outputId": "49d5421e-9bcb-480a-c011-bbdef37f8535"
      },
      "execution_count": null,
      "outputs": [
        {
          "output_type": "stream",
          "name": "stdout",
          "text": [
            "[1, 2, 4, 5]\n"
          ]
        }
      ]
    },
    {
      "cell_type": "code",
      "source": [
        "# 9) Write a code to access the second element in the list ['a', 'b', 'c', 'd']\n",
        "lis = ['a', 'b', 'c', 'd']\n",
        "lis[1]\n"
      ],
      "metadata": {
        "colab": {
          "base_uri": "https://localhost:8080/",
          "height": 35
        },
        "id": "bHjN_QH2e3qu",
        "outputId": "4bbbd5c8-7413-4c1d-9c52-b7bf24ca72cc"
      },
      "execution_count": null,
      "outputs": [
        {
          "output_type": "execute_result",
          "data": {
            "text/plain": [
              "'b'"
            ],
            "application/vnd.google.colaboratory.intrinsic+json": {
              "type": "string"
            }
          },
          "metadata": {},
          "execution_count": 10
        }
      ]
    },
    {
      "cell_type": "code",
      "source": [
        "# 10) Write a code to reverse the list [10, 20, 30, 40, 50].\n",
        "lis = [10, 20, 30, 40, 50]\n",
        "lis.reverse()\n",
        "print(lis)\n"
      ],
      "metadata": {
        "colab": {
          "base_uri": "https://localhost:8080/"
        },
        "id": "_YODutvyfVvs",
        "outputId": "cb9df089-8ab8-4ca3-f187-00e4c9feb245"
      },
      "execution_count": null,
      "outputs": [
        {
          "output_type": "stream",
          "name": "stdout",
          "text": [
            "[50, 40, 30, 20, 10]\n"
          ]
        }
      ]
    },
    {
      "cell_type": "code",
      "source": [
        "# 11) Write a code to create a tuple with the elements 100, 200, 300 and print it.\n",
        "tup = (100,200,300)\n",
        "print(tup)\n"
      ],
      "metadata": {
        "colab": {
          "base_uri": "https://localhost:8080/"
        },
        "id": "F9tNSfPTfjhf",
        "outputId": "fb36f370-af02-4ab4-8a32-f8b0557e2bd1"
      },
      "execution_count": null,
      "outputs": [
        {
          "output_type": "stream",
          "name": "stdout",
          "text": [
            "(100, 200, 300)\n"
          ]
        }
      ]
    },
    {
      "cell_type": "code",
      "source": [
        "# 12) Write a code to access the second-to-last element of the tuple ('red', 'green', 'blue', 'yellow').\n",
        "tup = ('red', 'green', 'blue', 'yellow')\n",
        "tup[-2]\n"
      ],
      "metadata": {
        "colab": {
          "base_uri": "https://localhost:8080/",
          "height": 35
        },
        "id": "7XLo4spZgR9K",
        "outputId": "f4723287-2b1c-48ec-b638-8590e9fc9c9d"
      },
      "execution_count": null,
      "outputs": [
        {
          "output_type": "execute_result",
          "data": {
            "text/plain": [
              "'blue'"
            ],
            "application/vnd.google.colaboratory.intrinsic+json": {
              "type": "string"
            }
          },
          "metadata": {},
          "execution_count": 13
        }
      ]
    },
    {
      "cell_type": "code",
      "source": [
        "# 13) Write a code to find the minimum number in the tuple (10, 20, 5, 15).\n",
        "tup = (10, 20, 5, 15)\n",
        "print(min(tup))\n"
      ],
      "metadata": {
        "colab": {
          "base_uri": "https://localhost:8080/"
        },
        "id": "gmg_eGVNglYR",
        "outputId": "fa2e31e9-8f97-468b-b48a-049b7dc17da2"
      },
      "execution_count": null,
      "outputs": [
        {
          "output_type": "stream",
          "name": "stdout",
          "text": [
            "5\n"
          ]
        }
      ]
    },
    {
      "cell_type": "code",
      "source": [
        "# 14) Write a code to find the index of the element \"cat\" in the tuple ('dog', 'cat', 'rabbit').\n",
        "tup = ('dog', 'cat', 'rabbit')\n",
        "print(tup.index(\"cat\"))"
      ],
      "metadata": {
        "colab": {
          "base_uri": "https://localhost:8080/"
        },
        "id": "43ZJEe8ogvM8",
        "outputId": "c9e3e126-1cf0-4bef-826d-248e3e3d33e5"
      },
      "execution_count": null,
      "outputs": [
        {
          "output_type": "stream",
          "name": "stdout",
          "text": [
            "1\n"
          ]
        }
      ]
    },
    {
      "cell_type": "code",
      "source": [
        "# 15) Write a code to create a tuple containing three different fruits and check if \"kiwi\" is in it.\n",
        "fruits = (\"apple\",\"orange\",\"kiwi\")\n",
        "if \"kiwi\" in fruits:\n",
        "    print(\"kiwi is in fruits\")\n",
        "else:\n",
        "    print(\"kiwi is not in fruits\")"
      ],
      "metadata": {
        "colab": {
          "base_uri": "https://localhost:8080/"
        },
        "id": "P9PN_1BThOhL",
        "outputId": "8cc18e9e-8544-4a11-9164-faa792d394d0"
      },
      "execution_count": null,
      "outputs": [
        {
          "output_type": "stream",
          "name": "stdout",
          "text": [
            "kiwi is in fruits\n"
          ]
        }
      ]
    },
    {
      "cell_type": "code",
      "source": [
        "# 16) Write a code to create a set with the elements 'a', 'b', 'c' and print it.\n",
        "letters = {\"a\",\"b\",\"c\"}\n",
        "print(letters)"
      ],
      "metadata": {
        "colab": {
          "base_uri": "https://localhost:8080/"
        },
        "id": "m0R6fCuchrTm",
        "outputId": "bfbb594c-2f04-420b-a6ea-70633597efb1"
      },
      "execution_count": null,
      "outputs": [
        {
          "output_type": "stream",
          "name": "stdout",
          "text": [
            "{'a', 'c', 'b'}\n"
          ]
        }
      ]
    },
    {
      "cell_type": "code",
      "source": [
        "# 17) Write a code to clear all elements from the set {1, 2, 3, 4, 5}.\n",
        "num = {1, 2, 3, 4, 5}\n",
        "num.clear()\n",
        "print(num)"
      ],
      "metadata": {
        "colab": {
          "base_uri": "https://localhost:8080/"
        },
        "id": "4sQ08DGmimUv",
        "outputId": "3b51da26-4faf-4201-f6f1-95e9a4032cb6"
      },
      "execution_count": null,
      "outputs": [
        {
          "output_type": "stream",
          "name": "stdout",
          "text": [
            "set()\n"
          ]
        }
      ]
    },
    {
      "cell_type": "code",
      "source": [
        "# 18) Write a code to remove the element 4 from the set {1, 2, 3, 4}.\n",
        "num = {1,2,3,4}\n",
        "(num.remove(4))\n",
        "print(num)"
      ],
      "metadata": {
        "colab": {
          "base_uri": "https://localhost:8080/"
        },
        "id": "HVmRcbbHi0jA",
        "outputId": "64640d54-2336-4de9-912b-6fb898524600"
      },
      "execution_count": null,
      "outputs": [
        {
          "output_type": "stream",
          "name": "stdout",
          "text": [
            "{1, 2, 3}\n"
          ]
        }
      ]
    },
    {
      "cell_type": "code",
      "source": [
        "#19) Write a code to find the union of two sets {1, 2, 3} and {3, 4, 5}.\n",
        "set1 = {1,2,3}\n",
        "set2 = {3,4,5}\n",
        "print(set1.union(set2))"
      ],
      "metadata": {
        "colab": {
          "base_uri": "https://localhost:8080/"
        },
        "id": "Jz8-ad6gjD_C",
        "outputId": "79b1c8c2-57e3-4d61-bf85-b79593e2fc78"
      },
      "execution_count": null,
      "outputs": [
        {
          "output_type": "stream",
          "name": "stdout",
          "text": [
            "{1, 2, 3, 4, 5}\n"
          ]
        }
      ]
    },
    {
      "cell_type": "code",
      "source": [
        "# 20) Write a code to find the intersection of two sets {1, 2, 3} and {2, 3, 4}.\n",
        "set1 = {1,2,3}\n",
        "set2 = {2,3,4}\n",
        "print(set1.intersection(set2))"
      ],
      "metadata": {
        "colab": {
          "base_uri": "https://localhost:8080/"
        },
        "id": "DD946gUsjjMn",
        "outputId": "ad034fd3-30b2-4320-e148-a26bef0d3bff"
      },
      "execution_count": null,
      "outputs": [
        {
          "output_type": "stream",
          "name": "stdout",
          "text": [
            "{2, 3}\n"
          ]
        }
      ]
    },
    {
      "cell_type": "code",
      "source": [
        "#21. Write a code to create a dictionary with the keys \"name\", \"age\", and \"city\", and print it.\n",
        "dict = {\n",
        "        \"name\":\"Akarshak\",\n",
        "        \"age\":25,\n",
        "        \"city\":\"Gurgaon\"\n",
        "      }\n",
        "print(dict)"
      ],
      "metadata": {
        "colab": {
          "base_uri": "https://localhost:8080/"
        },
        "id": "tWjvk1ZPjwdt",
        "outputId": "ec31efd7-fc1a-418d-a8e9-5b9696799ad8"
      },
      "execution_count": null,
      "outputs": [
        {
          "output_type": "stream",
          "name": "stdout",
          "text": [
            "{'name': 'Akarshak', 'age': 25, 'city': 'Gurgaon'}\n"
          ]
        }
      ]
    },
    {
      "cell_type": "code",
      "source": [
        "# 22. Write a code to add a new key-value pair \"country\": \"USA\" to the dictionary {'name': 'John', 'age': 25}.\n",
        "dict = {'name': 'John', 'age': 25}\n",
        "dict[\"country\"] = \"USA\"\n",
        "print(dict)"
      ],
      "metadata": {
        "colab": {
          "base_uri": "https://localhost:8080/"
        },
        "id": "-fXZzvP4kAaj",
        "outputId": "ba516f0f-f54c-4a52-f3e4-8e04c3482f29"
      },
      "execution_count": null,
      "outputs": [
        {
          "output_type": "stream",
          "name": "stdout",
          "text": [
            "{'name': 'John', 'age': 25, 'country': 'USA'}\n"
          ]
        }
      ]
    },
    {
      "cell_type": "code",
      "source": [
        "# 23) Write a code to access the value associated with the key \"name\" in the dictionary {'name': 'Alice', 'age': 30}.\n",
        "dict = {'name': 'Alice', 'age': 30}\n",
        "print(dict[\"name\"])"
      ],
      "metadata": {
        "colab": {
          "base_uri": "https://localhost:8080/"
        },
        "id": "qXpQFf81keV3",
        "outputId": "17c6c0fe-fe5d-4926-a26d-c4765c96bdc7"
      },
      "execution_count": null,
      "outputs": [
        {
          "output_type": "stream",
          "name": "stdout",
          "text": [
            "Alice\n"
          ]
        }
      ]
    },
    {
      "cell_type": "code",
      "source": [
        "# 24) Write a code to remove the key \"age\" from the dictionary {'name': 'Bob', 'age': 22, 'city': 'New York'}.\n",
        "dict = {'name': 'Bob', 'age': 22, 'city': 'New York'}\n",
        "dict.pop(\"age\")\n",
        "print(dict)"
      ],
      "metadata": {
        "colab": {
          "base_uri": "https://localhost:8080/"
        },
        "id": "apQto4GHksI1",
        "outputId": "2b19b500-4623-4aec-f106-a80483e96d09"
      },
      "execution_count": null,
      "outputs": [
        {
          "output_type": "stream",
          "name": "stdout",
          "text": [
            "{'name': 'Bob', 'city': 'New York'}\n"
          ]
        }
      ]
    },
    {
      "cell_type": "code",
      "source": [
        "# 25) Write a code to check if the key \"city\" exists in the dictionary {'name': 'Alice', 'city': 'Paris'}.\n",
        "dict = {'name': 'Alice', 'city': 'Paris'}\n",
        "if \"city\" in dict:\n",
        "    print(\"city is in dict\")\n",
        "else:\n",
        "    print(\"city is not in dict\")"
      ],
      "metadata": {
        "colab": {
          "base_uri": "https://localhost:8080/"
        },
        "id": "uuceHM2lk4zx",
        "outputId": "0aea3c1d-5bef-4304-9b24-41b490d3401f"
      },
      "execution_count": null,
      "outputs": [
        {
          "output_type": "stream",
          "name": "stdout",
          "text": [
            "city is in dict\n"
          ]
        }
      ]
    },
    {
      "cell_type": "code",
      "source": [
        "# 26) Write a code to create a list, a tuple, and a dictionary, and print them all.\n",
        "lis = [1,2,3,4]\n",
        "tup = (1,2,3,4)\n",
        "dict = {\n",
        "        \"name\":\"Akarshak\",\n",
        "        \"age\":25,\n",
        "        \"city\":\"Gurgaon\"\n",
        "      }\n",
        "print(lis)"
      ],
      "metadata": {
        "colab": {
          "base_uri": "https://localhost:8080/"
        },
        "id": "IKwKR4AplAuD",
        "outputId": "8eea717c-b53c-4925-e3dc-f153bb1da208"
      },
      "execution_count": null,
      "outputs": [
        {
          "output_type": "stream",
          "name": "stdout",
          "text": [
            "[1, 2, 3, 4]\n"
          ]
        }
      ]
    },
    {
      "cell_type": "code",
      "source": [
        "# 27. Write a code to create a list of 5 random numbers between 1 and 100, sort it in ascending order, and print the result.(replaced)\n",
        "import random\n",
        "random_numbers = [random.randint(1,100) for i in range(5)]\n",
        "random_numbers.sort()\n",
        "print(random_numbers)"
      ],
      "metadata": {
        "colab": {
          "base_uri": "https://localhost:8080/"
        },
        "id": "ht3Y6eVJlIup",
        "outputId": "68f40d53-7781-4a9b-d4be-23c634c51ec0"
      },
      "execution_count": null,
      "outputs": [
        {
          "output_type": "stream",
          "name": "stdout",
          "text": [
            "[65, 67, 67, 80, 90]\n"
          ]
        }
      ]
    },
    {
      "cell_type": "code",
      "source": [
        "# 28) Write a code to create a list with strings and print the element at the third index.\n",
        "lis = [\"apple\",\"orange\",\"kiwi\"]\n",
        "print(lis[2])"
      ],
      "metadata": {
        "colab": {
          "base_uri": "https://localhost:8080/"
        },
        "id": "wXXpO6BIlZ3r",
        "outputId": "2cd9a57d-c755-4026-d049-961b796ab833"
      },
      "execution_count": null,
      "outputs": [
        {
          "output_type": "stream",
          "name": "stdout",
          "text": [
            "kiwi\n"
          ]
        }
      ]
    },
    {
      "cell_type": "code",
      "source": [
        "# 29) Write a code to combine two dictionaries into one and print the result.\n",
        "dict1 = {\"name\": \"Alice\", \"age\": 25}\n",
        "dict2 = {\"city\": \"New York\", \"country\": \"USA\"}\n",
        "\n",
        "dict1.update(dict2)\n",
        "print(dict1)\n"
      ],
      "metadata": {
        "colab": {
          "base_uri": "https://localhost:8080/"
        },
        "id": "-W8BuJwPlh0L",
        "outputId": "2f2c27cc-b16d-45f8-dfb8-d6d7885cd0ee"
      },
      "execution_count": null,
      "outputs": [
        {
          "output_type": "stream",
          "name": "stdout",
          "text": [
            "{'name': 'Alice', 'age': 25, 'city': 'New York', 'country': 'USA'}\n"
          ]
        }
      ]
    },
    {
      "cell_type": "code",
      "source": [
        "  # 30) Write a code to convert a list of strings into a set.\n",
        "lis = [\"apple\",\"orange\",\"kiwi\"]\n",
        "print(set(lis))"
      ],
      "metadata": {
        "colab": {
          "base_uri": "https://localhost:8080/"
        },
        "id": "aq8Py0w7l3o-",
        "outputId": "da4ca15f-ad2e-4aeb-f08c-90be62148343"
      },
      "execution_count": null,
      "outputs": [
        {
          "output_type": "stream",
          "name": "stdout",
          "text": [
            "{'apple', 'orange', 'kiwi'}\n"
          ]
        }
      ]
    }
  ]
}